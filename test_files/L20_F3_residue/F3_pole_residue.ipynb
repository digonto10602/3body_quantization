{
 "cells": [
  {
   "cell_type": "code",
   "execution_count": 1,
   "metadata": {},
   "outputs": [],
   "source": [
    "#This is the code we use to generate the residues \n",
    "#the poles of F3 function, we can use this in separate .py\n",
    "#file as well, the reason for creating this notebook is \n",
    "#to check the fits as well \n",
    "\n",
    "import numpy as np \n",
    "import math \n",
    "import matplotlib as mpl \n",
    "import matplotlib.pyplot as plt \n",
    "from scipy.optimize import curve_fit\n",
    "import scipy.interpolate\n",
    "from mpl_toolkits.axes_grid1 import make_axes_locatable\n",
    "\n",
    "def Ecm_linear_fitting_function(Ecm, m, c):\n",
    "    result = m*Ecm + c \n",
    "    return result \n",
    "\n",
    "def Ecm_pole_fitting_function(Ecm, A, Eb):\n",
    "    result = Ecm/A - Eb/A; \n",
    "\n",
    "def residue_fitting_code(Ecm, F3inv, residue_guess, Eb_guess):\n",
    "    par_guess = [residue_guess, Eb_guess]\n",
    "    Parameters, Covariance = curve_fit(Ecm_pole_fitting_function, Ecm, F3inv, p0=par_guess)\n",
    "    FitA = Parameters[0]\n",
    "    FitEb = Parameters[1]\n",
    "    SE = np.sqrt(np.diag(Covariance))\n",
    "    SE_FitA = SE[0]\n",
    "    SE_Eb = SE[1]\n",
    "    return FitA, FitEb, SE_FitA, SE_Eb "
   ]
  },
  {
   "cell_type": "code",
   "execution_count": 8,
   "metadata": {},
   "outputs": [],
   "source": [
    "def Residue_calculation_and_plotting():\n",
    "    Pmom_list = ['000','100','110','111','200']\n",
    "    for moms in Pmom_list:\n",
    "        filename_str1 =  'calcResidue_F3_nP' + moms + '_L20_state_'\n",
    "\n",
    "        for state in range(0,9,1):\n",
    "            filename = filename_str1 + str(state) + '.dat'\n",
    "            print(filename)"
   ]
  },
  {
   "cell_type": "code",
   "execution_count": 9,
   "metadata": {},
   "outputs": [
    {
     "name": "stdout",
     "output_type": "stream",
     "text": [
      "calcResidue_F3_nP000_L20_state_0.dat\n",
      "calcResidue_F3_nP000_L20_state_1.dat\n",
      "calcResidue_F3_nP000_L20_state_2.dat\n",
      "calcResidue_F3_nP000_L20_state_3.dat\n",
      "calcResidue_F3_nP000_L20_state_4.dat\n",
      "calcResidue_F3_nP000_L20_state_5.dat\n",
      "calcResidue_F3_nP000_L20_state_6.dat\n",
      "calcResidue_F3_nP000_L20_state_7.dat\n",
      "calcResidue_F3_nP000_L20_state_8.dat\n",
      "calcResidue_F3_nP100_L20_state_0.dat\n",
      "calcResidue_F3_nP100_L20_state_1.dat\n",
      "calcResidue_F3_nP100_L20_state_2.dat\n",
      "calcResidue_F3_nP100_L20_state_3.dat\n",
      "calcResidue_F3_nP100_L20_state_4.dat\n",
      "calcResidue_F3_nP100_L20_state_5.dat\n",
      "calcResidue_F3_nP100_L20_state_6.dat\n",
      "calcResidue_F3_nP100_L20_state_7.dat\n",
      "calcResidue_F3_nP100_L20_state_8.dat\n",
      "calcResidue_F3_nP110_L20_state_0.dat\n",
      "calcResidue_F3_nP110_L20_state_1.dat\n",
      "calcResidue_F3_nP110_L20_state_2.dat\n",
      "calcResidue_F3_nP110_L20_state_3.dat\n",
      "calcResidue_F3_nP110_L20_state_4.dat\n",
      "calcResidue_F3_nP110_L20_state_5.dat\n",
      "calcResidue_F3_nP110_L20_state_6.dat\n",
      "calcResidue_F3_nP110_L20_state_7.dat\n",
      "calcResidue_F3_nP110_L20_state_8.dat\n",
      "calcResidue_F3_nP111_L20_state_0.dat\n",
      "calcResidue_F3_nP111_L20_state_1.dat\n",
      "calcResidue_F3_nP111_L20_state_2.dat\n",
      "calcResidue_F3_nP111_L20_state_3.dat\n",
      "calcResidue_F3_nP111_L20_state_4.dat\n",
      "calcResidue_F3_nP111_L20_state_5.dat\n",
      "calcResidue_F3_nP111_L20_state_6.dat\n",
      "calcResidue_F3_nP111_L20_state_7.dat\n",
      "calcResidue_F3_nP111_L20_state_8.dat\n",
      "calcResidue_F3_nP200_L20_state_0.dat\n",
      "calcResidue_F3_nP200_L20_state_1.dat\n",
      "calcResidue_F3_nP200_L20_state_2.dat\n",
      "calcResidue_F3_nP200_L20_state_3.dat\n",
      "calcResidue_F3_nP200_L20_state_4.dat\n",
      "calcResidue_F3_nP200_L20_state_5.dat\n",
      "calcResidue_F3_nP200_L20_state_6.dat\n",
      "calcResidue_F3_nP200_L20_state_7.dat\n",
      "calcResidue_F3_nP200_L20_state_8.dat\n"
     ]
    }
   ],
   "source": [
    "#Run here \n",
    "Residue_calculation_and_plotting()"
   ]
  },
  {
   "cell_type": "code",
   "execution_count": null,
   "metadata": {},
   "outputs": [],
   "source": []
  }
 ],
 "metadata": {
  "kernelspec": {
   "display_name": "base",
   "language": "python",
   "name": "python3"
  },
  "language_info": {
   "codemirror_mode": {
    "name": "ipython",
    "version": 3
   },
   "file_extension": ".py",
   "mimetype": "text/x-python",
   "name": "python",
   "nbconvert_exporter": "python",
   "pygments_lexer": "ipython3",
   "version": "3.9.13"
  }
 },
 "nbformat": 4,
 "nbformat_minor": 2
}
